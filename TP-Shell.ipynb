{
 "cells": [
  {
   "cell_type": "code",
   "execution_count": 1,
   "metadata": {},
   "outputs": [],
   "source": [
    "# Tous les imports du notebook, cellule à exécuter dès le début\n",
    "from os import getcwd,scandir"
   ]
  },
  {
   "cell_type": "markdown",
   "metadata": {},
   "source": [
    "# TP Bash"
   ]
  },
  {
   "cell_type": "markdown",
   "metadata": {},
   "source": [
    "A partir de l'onglet nommé \"Accueil\", cliquer sur new / terminal. Cela va vous ouvrira un nouvel onglet contenant une console permettant de saisir des commandes du Bash.\n",
    "<img src='./img/console1.png'  width=1000>"
   ]
  },
  {
   "cell_type": "markdown",
   "metadata": {},
   "source": [
    "## Objectifs\n",
    "Lors de ce TP vous allez vous familiariser avec les commandes du Bash vues dans le cours \"Systèmes d’exploitation\". Il est recommandé d'avoir celui-ci sous les yeux pendant le TP.  \n",
    "Soyez vigilent à l'orthographe des mots employés ainsi qu'à leur casse (majuscules et minuscules)."
   ]
  },
  {
   "cell_type": "markdown",
   "metadata": {},
   "source": [
    "## Commandes de base"
   ]
  },
  {
   "cell_type": "markdown",
   "metadata": {},
   "source": [
    "<div class = \"alert alert-warning\">\n",
    "\n",
    "#### Exercice 1: L'échauffement\n",
    "\n",
    "1. A partir de la console, déterminer l'adresse du dossier courant.  \n",
    "    *Votre réponse ici*\n",
    "2. A partir de la console, créer un dossier nommé \"documents\" le dossier en cours. Il est évidement interdit d'utiliser le gestionnaire de fichier pour faire cela!  \n",
    "    *Ecrivez la commande utilisée ici*\n",
    "    \n",
    "**La cellule ci dessous va vous permettre de vérifier votre travail, si aucune AssertionError ne se manifeste alors c'est que vos lignes de commande sont correctes**\n",
    "    "
   ]
  },
  {
   "cell_type": "code",
   "execution_count": 2,
   "metadata": {},
   "outputs": [
    {
     "name": "stdout",
     "output_type": "stream",
     "text": [
      "L'adresse du dossier en cours est D:\\Maths\\Dropbox\\NSI\\Premiere\\15-OS\\Jupyter\n",
      "Liste des dossiers : ['documents', 'img', 'temp']\n"
     ]
    }
   ],
   "source": [
    "# Question 1\n",
    "print(\"L'adresse du dossier en cours est \"+getcwd())\n",
    "\n",
    "# Question 2 \n",
    "dossiers = []\n",
    "# Les 4 lignes de code suivantes permettent de créer la liste des dossiers du dossier courant\n",
    "with scandir() as it:\n",
    "    for entry in it:\n",
    "        if not entry.name.startswith('.') and entry.is_dir():\n",
    "            dossiers.append(entry.name)\n",
    "print(\"Liste des dossiers : \"+str(dossiers))\n",
    "# Test\n",
    "assert \"documents\" in dossiers"
   ]
  },
  {
   "cell_type": "markdown",
   "metadata": {},
   "source": [
    "<div class = \"alert alert-warning\">\n",
    "\n",
    "#### Exercice 2: Créer un ensemble de dossiers et fichiers.\n",
    "\n",
    "1. A partir de la console, accédez au dossier \"documents\", puis créer les 3 sous-dossiers \"images\", \"musiques\" et \"videos\"\n",
    "2. Toujours à partir de la console, créer les 4 fichiers vides comme indiqués dans l'image ci-dessous.\n",
    "    \n",
    "<img src='./img/dossier1.png'  width=500>\n",
    "    \n",
    "**La cellule ci dessous va vous permettre de vérifier votre travail, si aucune AssertionError ne se manifeste alors c'est que vos lignes de commande sont correctes**"
   ]
  },
  {
   "cell_type": "code",
   "execution_count": 3,
   "metadata": {},
   "outputs": [
    {
     "name": "stdout",
     "output_type": "stream",
     "text": [
      "Liste des dossiers : ['images', 'musiques', 'txt', 'videos']\n",
      "Liste des fichiers par dossiers : {'fichiers_images': ['ciel.png', 'plage.jpg'], 'fichiers_musiques': ['muse.mp3'], 'fichiers_videos': ['bliss.mp4', 'concert.mp4']}\n"
     ]
    },
    {
     "ename": "AssertionError",
     "evalue": "",
     "output_type": "error",
     "traceback": [
      "\u001b[1;31m---------------------------------------------------------------------------\u001b[0m",
      "\u001b[1;31mAssertionError\u001b[0m                            Traceback (most recent call last)",
      "\u001b[1;32m<ipython-input-3-99184827f301>\u001b[0m in \u001b[0;36m<module>\u001b[1;34m\u001b[0m\n\u001b[0;32m     19\u001b[0m \u001b[1;33m\u001b[0m\u001b[0m\n\u001b[0;32m     20\u001b[0m \u001b[1;31m#tests\u001b[0m\u001b[1;33m\u001b[0m\u001b[1;33m\u001b[0m\u001b[1;33m\u001b[0m\u001b[0m\n\u001b[1;32m---> 21\u001b[1;33m \u001b[1;32massert\u001b[0m \u001b[0mdossiers\u001b[0m \u001b[1;33m==\u001b[0m \u001b[1;33m[\u001b[0m\u001b[1;34m'images'\u001b[0m\u001b[1;33m,\u001b[0m \u001b[1;34m'musiques'\u001b[0m\u001b[1;33m,\u001b[0m \u001b[1;34m'videos'\u001b[0m\u001b[1;33m]\u001b[0m\u001b[1;33m\u001b[0m\u001b[1;33m\u001b[0m\u001b[0m\n\u001b[0m\u001b[0;32m     22\u001b[0m \u001b[1;32massert\u001b[0m \u001b[0mdico\u001b[0m\u001b[1;33m[\u001b[0m\u001b[1;34m'fichiers_images'\u001b[0m\u001b[1;33m]\u001b[0m \u001b[1;33m==\u001b[0m \u001b[1;33m[\u001b[0m\u001b[1;34m'ciel.png'\u001b[0m\u001b[1;33m,\u001b[0m \u001b[1;34m'plage.jpg'\u001b[0m\u001b[1;33m]\u001b[0m\u001b[1;33m\u001b[0m\u001b[1;33m\u001b[0m\u001b[0m\n\u001b[0;32m     23\u001b[0m \u001b[1;32massert\u001b[0m \u001b[0mdico\u001b[0m\u001b[1;33m[\u001b[0m\u001b[1;34m'fichiers_musiques'\u001b[0m\u001b[1;33m]\u001b[0m \u001b[1;33m==\u001b[0m \u001b[1;33m[\u001b[0m\u001b[1;34m'muse.mp3'\u001b[0m\u001b[1;33m]\u001b[0m\u001b[1;33m\u001b[0m\u001b[1;33m\u001b[0m\u001b[0m\n",
      "\u001b[1;31mAssertionError\u001b[0m: "
     ]
    }
   ],
   "source": [
    "dossiers = []\n",
    "# Les 4 lignes de code suivantes permettent de créer la liste des dossiers du dossier courant\n",
    "with scandir('documents') as it:\n",
    "    for entry in it:\n",
    "        if not entry.name.startswith('.') and entry.is_dir():\n",
    "            dossiers.append(entry.name)\n",
    "dossiers.sort()\n",
    "print(\"Liste des dossiers : \"+str(dossiers))\n",
    "# Les lignes de code suivantes permettent de créer la liste des fichiers de chaque dossiers images, musiques et videos\n",
    "dico = {}\n",
    "for dossier in  ['images', 'musiques', 'videos']:\n",
    "    dico['fichiers_'+str(dossier)]= []\n",
    "    with scandir('documents/'+dossier) as it:\n",
    "        for entry in it:\n",
    "            if not entry.name.startswith('.') and entry.is_file():\n",
    "                dico['fichiers_'+str(dossier)].append(entry.name)\n",
    "    dico['fichiers_'+str(dossier)].sort()\n",
    "print('Liste des fichiers par dossiers : '+ str(dico))\n",
    "\n",
    "#tests\n",
    "assert dossiers == ['images', 'musiques', 'videos']\n",
    "assert dico['fichiers_images'] == ['ciel.png', 'plage.jpg']\n",
    "assert dico['fichiers_musiques'] == ['muse.mp3']\n",
    "assert dico['fichiers_videos'] == ['concert.mp4']"
   ]
  },
  {
   "cell_type": "markdown",
   "metadata": {},
   "source": [
    "<div class = \"alert alert-warning\">\n",
    "\n",
    "#### Exercice 3: Déplacer, renommer et supprimer des fichiers..\n",
    "A partir de la console, effectuer les actions ci-dessous.    \n",
    "    \n",
    "Des fichiers et dossiers ont été placés dans le dossier `temp` et vont être déplacés dans les sous-dossiers du dossier `document`\n",
    "- le fichier `bliss.mp4` doit être déplacé dans le dossier `documents/videos`  \n",
    "- le dossier `anniversaire` doit être déplacé dans le dossier `documents/images`  \n",
    "Pour déplacer un dossier, ajouter le paramètre -r (repository) à la commande   \n",
    "Exemple : `mv -r dossier_initial dossier_destination`\n",
    "- le dossier `txt` doit être déplacé dans le dossier `documents`   \n",
    "\n",
    "    \n",
    "**La cellule ci dessous va vous permettre de vérifier votre travail, si aucune AssertionError ne se manifeste alors c'est que vos lignes de commande sont correctes**"
   ]
  },
  {
   "cell_type": "code",
   "execution_count": 4,
   "metadata": {},
   "outputs": [],
   "source": [
    "# Les lignes de code suivantes permettent de créer la liste des fichiers du dossier videos\n",
    "videos = []\n",
    "with scandir('documents/videos') as it:\n",
    "    for entry in it:\n",
    "        if not entry.name.startswith('.') and entry.is_file():\n",
    "            videos.append(entry.name)\n",
    "videos.sort()\n",
    "# Les lignes de code suivantes permettent de créer la liste des dossiers du dossier images\n",
    "images_dossier = []\n",
    "with scandir('documents/images') as it:\n",
    "    for entry in it:\n",
    "        if not entry.name.startswith('.') and entry.is_dir():\n",
    "            images_dossier.append(entry.name)\n",
    "images_dossier.sort()\n",
    "# Les lignes de code suivantes permettent de créer la liste des dossiers du dossier images\n",
    "anniv = []\n",
    "with scandir('documents/images/anniversaire') as it:\n",
    "    for entry in it:\n",
    "        if not entry.name.startswith('.') and entry.is_file():\n",
    "            anniv.append(entry.name)\n",
    "anniv.sort()\n",
    "# Les lignes de code suivantes permettent de créer la liste des dossiers du dossier document\n",
    "txt = []\n",
    "with scandir('documents/') as it:\n",
    "    for entry in it:\n",
    "        if not entry.name.startswith('.') and entry.is_dir():\n",
    "            txt.append(entry.name)\n",
    "txt.sort()            \n",
    "\n",
    "#tests\n",
    "assert videos == ['bliss.mp4', 'concert.mp4']\n",
    "assert images_dossier == ['anniversaire']\n",
    "assert anniv == ['anniv1.jpg', 'anniv2.jpg', 'anniv3.jpg', 'anniv4.jpg', 'anniv5.jpg', 'anniv6.png', 'anniv7.png', 'laura.png', 'leo.png', 'louise.png']\n",
    "assert txt == ['images', 'musiques', 'txt', 'videos']"
   ]
  },
  {
   "cell_type": "markdown",
   "metadata": {},
   "source": [
    "<div class = \"alert alert-warning\">\n",
    "\n",
    "#### Exercice 4: Déplacer, renommer et supprimer des fichiers..\n",
    "A partir de la console, effectuer les actions ci-dessous.    \n",
    "    \n",
    "- Placez-vous dans le dossier `anniversaire`;\n",
    "- Créez un sous-dossier `photos_groupe` dans ce dossier;\n",
    "- En vous aidant des expressions régulière, copiez toutes les images qui commencent par `anniv` dans le sous-dossier `photos_groupe`.\n",
    "- Vérifiez le résultat avec la commande `ls`\n",
    "\n",
    "    \n",
    "**La cellule ci dessous va vous permettre de vérifier votre travail, si aucune AssertionError ne se manifeste alors c'est que vos lignes de commande sont correctes**"
   ]
  },
  {
   "cell_type": "code",
   "execution_count": 5,
   "metadata": {},
   "outputs": [],
   "source": [
    "# Les lignes de code suivantes permettent de créer la liste des fichiers du dossier photos_groupe\n",
    "photos_groupe = []\n",
    "with scandir('documents/images/anniversaire/photos_groupe/') as it:\n",
    "    for entry in it:\n",
    "        if not entry.name.startswith('.') and entry.is_file():\n",
    "            photos_groupe.append(entry.name)\n",
    "photos_groupe.sort()\n",
    "\n",
    "assert photos_groupe == ['anniv1.jpg', 'anniv2.jpg', 'anniv3.jpg', 'anniv4.jpg', 'anniv5.jpg', 'anniv6.png', 'anniv7.png']\n"
   ]
  },
  {
   "cell_type": "markdown",
   "metadata": {},
   "source": [
    "<div class = \"alert alert-warning\">\n",
    "\n",
    "#### Exercice 5 : Déplacer, renommer et supprimer des fichiers..\n",
    "A partir de la console, effectuer les actions ci-dessous.    \n",
    "    \n",
    "- Placez-vous dans le dossier `anniversaire`;\n",
    "- Créez deux sous-dossier `photos_jpg` et `photos_png` dans ce dossier;\n",
    "- En vous aidant des caractères génériques, copiez toutes les images d'extension 'jpg' dans le dossier `photos_jpg`\n",
    "- En vous aidant des caractères génériques, copiez toutes les images d'extension 'png' dans le dossier `photos_png`\n",
    "- Vérifiez le résultat avec la commande `ls`\n",
    "\n",
    "    \n",
    "**La cellule ci dessous va vous permettre de vérifier votre travail, si aucune AssertionError ne se manifeste alors c'est que vos lignes de commande sont correctes**"
   ]
  },
  {
   "cell_type": "code",
   "execution_count": 6,
   "metadata": {},
   "outputs": [
    {
     "ename": "AssertionError",
     "evalue": "",
     "output_type": "error",
     "traceback": [
      "\u001b[1;31m---------------------------------------------------------------------------\u001b[0m",
      "\u001b[1;31mAssertionError\u001b[0m                            Traceback (most recent call last)",
      "\u001b[1;32m<ipython-input-6-d0fb9113c334>\u001b[0m in \u001b[0;36m<module>\u001b[1;34m\u001b[0m\n\u001b[0;32m     18\u001b[0m \u001b[1;31m#tests\u001b[0m\u001b[1;33m\u001b[0m\u001b[1;33m\u001b[0m\u001b[1;33m\u001b[0m\u001b[0m\n\u001b[0;32m     19\u001b[0m \u001b[1;32massert\u001b[0m \u001b[0mphotos_jpg\u001b[0m \u001b[1;33m==\u001b[0m \u001b[1;33m[\u001b[0m\u001b[1;34m'anniv1.jpg'\u001b[0m\u001b[1;33m,\u001b[0m \u001b[1;34m'anniv2.jpg'\u001b[0m\u001b[1;33m,\u001b[0m \u001b[1;34m'anniv3.jpg'\u001b[0m\u001b[1;33m,\u001b[0m \u001b[1;34m'anniv4.jpg'\u001b[0m\u001b[1;33m,\u001b[0m \u001b[1;34m'anniv5.jpg'\u001b[0m\u001b[1;33m]\u001b[0m\u001b[1;33m\u001b[0m\u001b[1;33m\u001b[0m\u001b[0m\n\u001b[1;32m---> 20\u001b[1;33m \u001b[1;32massert\u001b[0m \u001b[0mphotos_png\u001b[0m \u001b[1;33m==\u001b[0m \u001b[1;33m[\u001b[0m\u001b[1;34m'anniv6.png'\u001b[0m\u001b[1;33m,\u001b[0m \u001b[1;34m'anniv7.png'\u001b[0m\u001b[1;33m,\u001b[0m \u001b[1;34m'laura.png'\u001b[0m\u001b[1;33m,\u001b[0m \u001b[1;34m'leo.png'\u001b[0m\u001b[1;33m,\u001b[0m \u001b[1;34m'louise.png'\u001b[0m\u001b[1;33m]\u001b[0m\u001b[1;33m\u001b[0m\u001b[1;33m\u001b[0m\u001b[0m\n\u001b[0m",
      "\u001b[1;31mAssertionError\u001b[0m: "
     ]
    }
   ],
   "source": [
    "# Les lignes de code suivantes permettent de créer la liste des fichiers du dossier photos_jpg\n",
    "photos_jpg = []\n",
    "with scandir('documents/images/anniversaire/photos_jpg/') as it:\n",
    "    for entry in it:\n",
    "        if not entry.name.startswith('.') and entry.is_file():\n",
    "            photos_jpg.append(entry.name)\n",
    "photos_jpg.sort()\n",
    "\n",
    "\n",
    "# Les lignes de code suivantes permettent de créer la liste des fichiers du dossier photos_png\n",
    "photos_png = []\n",
    "with scandir('documents/images/anniversaire/photos_png/') as it:\n",
    "    for entry in it:\n",
    "        if not entry.name.startswith('.') and entry.is_file():\n",
    "            photos_png.append(entry.name)\n",
    "photos_png.sort()\n",
    "\n",
    "#tests\n",
    "assert photos_jpg == ['anniv1.jpg', 'anniv2.jpg', 'anniv3.jpg', 'anniv4.jpg', 'anniv5.jpg']\n",
    "assert photos_png == ['anniv6.png', 'anniv7.png', 'laura.png', 'leo.png', 'louise.png']"
   ]
  },
  {
   "cell_type": "markdown",
   "metadata": {},
   "source": [
    "<div class = \"alert alert-warning\">\n",
    "\n",
    "#### Exercice 6 : Déplacer, renommer et supprimer des fichiers..\n",
    "A partir de la console, effectuer les actions ci-dessous.    \n",
    "    \n",
    "- Placez-vous dans le dossier `photos_png`;\n",
    "- En vous aidant des caractères génériques, supprimez les photos qui commencent par \"anniv\";\n",
    "- Renommez les photos restantes de la façon suivantes : \n",
    "    - laura.png -> portrait_laura.png\n",
    "    - leo.png -> portrait_leo.png\n",
    "    - louise.png -> portrait_louise.png\n",
    "    \n",
    "Appuyer sur la touche \"flèche du haut\" de votre clavier permet d'accéder aux commandes précédement utilisées dans le bash.\n",
    "    \n",
    "**La cellule ci dessous va vous permettre de vérifier votre travail, si aucune AssertionError ne se manifeste alors c'est que vos lignes de commande sont correctes**"
   ]
  },
  {
   "cell_type": "code",
   "execution_count": 7,
   "metadata": {},
   "outputs": [],
   "source": [
    "# Les lignes de code suivantes permettent de créer la liste des fichiers du dossier photos_png\n",
    "photos_png = []\n",
    "with scandir('documents/images/anniversaire/photos_png/') as it:\n",
    "    for entry in it:\n",
    "        if not entry.name.startswith('.') and entry.is_file():\n",
    "            photos_png.append(entry.name)\n",
    "photos_png.sort()\n",
    "\n",
    "#tests\n",
    "assert photos_png == ['portrait_laura.png', 'portrait_leo.png', 'portrait_louise.png']"
   ]
  },
  {
   "cell_type": "markdown",
   "metadata": {},
   "source": [
    "## Filtres, pipes et redirections."
   ]
  },
  {
   "cell_type": "markdown",
   "metadata": {},
   "source": [
    "### Les entrées sorties dans un fichier :\n",
    "`>` et `>>` permettent d'envoyer le résultats d'une commande vers un fichier repectivement en écrasant le fichier, en écrivant à la suite du fichier (le fichier est créé si il n'existait pas)  \n",
    "\n",
    "Exemples : \n",
    "1. `echo \"Hello World !\" > essai1.txt` pour envoyer l'expression \"Hello World !\" dans le fichier essai1.txt qui est créé (ou réinitialisé, avec contenu effacé) \n",
    "\n",
    "2. `echo \"How are you today ?\" >> essai1.txt` pour envoyer l'expression \"How are you today ?\" dans le fichier essai1.txt à la suite du contenu précédent.\n",
    "\n",
    "3. `ls -l > essai2.txt` va écrire le contenu du répestoire dans le fichier essai2.txt\n",
    "\n",
    "Essayez ces 3 exemples dans la console. la commande `cat <fichier>` permet d'afficher le contenu d'un fichier dans la console.  \n",
    "Essayez `cat essai1.txt`"
   ]
  },
  {
   "cell_type": "markdown",
   "metadata": {},
   "source": [
    "Unix permet l’utilisation de filtres (comme wc, sort, cut, tr) qui sont souvent combinés avec des tubes (pipes) notés\"|\" pour envoyer le résultat dans un fichier."
   ]
  },
  {
   "cell_type": "markdown",
   "metadata": {},
   "source": [
    "\n"
   ]
  },
  {
   "cell_type": "markdown",
   "metadata": {},
   "source": [
    "### Compter des lignes ou des caractères : wc\n",
    "\n",
    "**Exemple :**\n",
    "`wc myfile.txt`\n",
    "\n",
    "Affiche des informations sur myfile.txt. La sortie aura l'allure suivante : \n",
    "\n",
    "5 13 57 myfile.txt\n",
    "\n",
    "Avec 5 le nombre de lignes, 13 le nombre de mots, et 57 le nombre de caractères.\n",
    "\n",
    "Options :  \n",
    "-c, --bytes \taffiche le nombre de bits.  \n",
    "-m, --chars \taffiche le nombre de caractères.  \n",
    "-l, --lines \taffiche le nombre de lignes.  \n",
    "-L, --max-line-length \taffiche la longueur de la plus grande ligne.  \n",
    "-w, --words \taffiche le nombre de mots.  \n"
   ]
  },
  {
   "cell_type": "markdown",
   "metadata": {},
   "source": [
    "Unix permet l’utilisation de filtres (comme wc, sort, cut, tr) qui sont souvent combinés avec des tuyeaux (pipes) notés\"|\" pour envoyer le résultat dans un fichier ou une autre commande.\n",
    "\n",
    "**Exemple**\n",
    "`ls -l | wc -l` \n",
    "va compter le nombre de fichiers et répertoires du dossier courant.  \n",
    "En effet `ls -l` affiche une liste des ces fichiers et répertoires, puis le résultat est envoyé, via un pipe `|`, à la commande `wc -l` qui va compter le nombre de ligne. Comme une ligne correspond à un fichier ou répertoire alors on obtient bien le nombre de fichiers et répertoires du dossier courant."
   ]
  },
  {
   "cell_type": "markdown",
   "metadata": {},
   "source": [
    "<div class = \"alert alert-warning\">\n",
    "\n",
    "#### Exercice 7 : Déterminer, via la ligne de commande, le nombre de lignes, de caractères et la longueur de la plus grande ligne du fichier `cyrano.txt` du dossier `documents/txt/`\n",
    "    \n",
    "*Votre réponse ici*"
   ]
  },
  {
   "cell_type": "markdown",
   "metadata": {},
   "source": [
    "### Trier un fichier ou la sortie d'une commande\n",
    "\n",
    "**Exemple :**\n",
    "`sort myfile.txt`\n",
    "\n",
    "Sous linux la commande sort permet de trier un fichier texte.\n",
    "\n",
    "Options principales de la commande sort\n",
    "\n",
    "- -k permet de spécifier les colonnes de tri (la numérotation commence à 1).\n",
    "- -t permet de spécifier le séparateur des champs (utile avec les fichiers csv)\n",
    "- -r effectue un tri inverse (reverse)\n",
    "\n",
    "**Exemple :**\n",
    "`ls -l | sort -k9` affichera le contenu du dossier trié par ordre alphabétique (la 9eme colonne corespond aux noms)\n",
    "\n"
   ]
  },
  {
   "cell_type": "markdown",
   "metadata": {},
   "source": [
    "<div class = \"alert alert-warning\">\n",
    "\n",
    "#### Exercice 8 : Créez, via la ligne de commande, un fichier nommé `nez3.txt` à partir du fichier `nez.txt` du dossier `documents/txt/` obtenu en triant le fichier initial par ordre alphabétique du premier mot de chaque ligne. \n",
    "    \n",
    "*Ecrivez votre ligne de commande ici*"
   ]
  },
  {
   "cell_type": "markdown",
   "metadata": {},
   "source": [
    "### Chercher une chaine de caractère\n",
    "\n",
    "**Exemple :**\n",
    "`grep motif myfile.txt`\n",
    "\n",
    "Recherche le motif dans le fichier myfile.txt\n",
    "\n",
    "Options principales de la commande :\n",
    "\n",
    "-c \tNombre de ligne trouvées (sans les afficher).\n",
    "-i Ne fait pas la différence entre majuscule et minuscule.\n",
    "-n \tAffiche le numero de la ligne.\n",
    "-l Affiche le nom du fichier contenant la ligne (et pas la ligne).\n",
    "-v Affiche toutes les lignes qui ne contiennent pas le mot en question.\n",
    "\n"
   ]
  },
  {
   "cell_type": "markdown",
   "metadata": {},
   "source": [
    "<div class = \"alert alert-warning\">\n",
    "\n",
    "#### Exercice 9 : Rechercher le nombre d'occurence du mot \"nez\" dans le fichier `nez.txt` \n",
    "    \n",
    "*Ecrivez votre ligne de commande ici*"
   ]
  },
  {
   "cell_type": "markdown",
   "metadata": {},
   "source": [
    "### Modifier un fichier\n",
    "\n",
    "La commande sed est un utilitaire qui parcourt un fichier texte ligne par ligne afin de lui appliquer un traitement ou un remplacement lorsque l'expression régulière est vérifiée.\n",
    "\n",
    "**Exemples :**  \n",
    "`sed 's/foo/bar/' file.txt` Transformer la première occurence 'foo' de chaque ligne par 'bar'.  \n",
    "`sed 's/\\t/ /g' file.txt` Transformer toutes les tabulations par deux espaces.  \n",
    "`sed '/^#/ d' file.txt` Supprimer toutes les lignes commancant par #.  \n",
    "`sed '/^Bonjour/,/^Au revoir/d' file.txt` Supprimer toutes les lignes comprises entre les deux motifs.  \n",
    "`sed -n '/foo/p' file.txt` Afficher uniquement les lignes où l'expression est trouvée.  \n"
   ]
  },
  {
   "cell_type": "markdown",
   "metadata": {},
   "source": [
    "<div class = \"alert alert-warning\">\n",
    "\n",
    "#### Exercice 10 : Remplacez les occurences du mot \"nez\" dans le fichier `nez.txt`  par le mot \"tarin\".\n",
    "    \n",
    "*Ecrivez votre ligne de commande ici*"
   ]
  },
  {
   "cell_type": "markdown",
   "metadata": {},
   "source": [
    "Nous n'avons pas vu toutes les commandes disponbiles dans le bash de linux. Vous pouvez en trouver une liste [ici](https://fr.wikibooks.org/wiki/Programmation_Bash/Commandes_shell)  "
   ]
  },
  {
   "cell_type": "code",
   "execution_count": null,
   "metadata": {},
   "outputs": [],
   "source": []
  }
 ],
 "metadata": {
  "kernelspec": {
   "display_name": "Python 3",
   "language": "python",
   "name": "python3"
  },
  "language_info": {
   "codemirror_mode": {
    "name": "ipython",
    "version": 3
   },
   "file_extension": ".py",
   "mimetype": "text/x-python",
   "name": "python",
   "nbconvert_exporter": "python",
   "pygments_lexer": "ipython3",
   "version": "3.7.4"
  }
 },
 "nbformat": 4,
 "nbformat_minor": 4
}
