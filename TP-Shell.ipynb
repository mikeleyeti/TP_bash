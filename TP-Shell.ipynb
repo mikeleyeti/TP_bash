{
 "cells": [
  {
   "cell_type": "code",
   "execution_count": null,
   "metadata": {},
   "outputs": [],
   "source": [
    "# Tous les imports du notebook, cellule à exécuter dès le début\n",
    "from os import getcwd,scandir"
   ]
  },
  {
   "cell_type": "markdown",
   "metadata": {},
   "source": [
    "# TP Bash\n"
   ]
  },
  {
   "cell_type": "markdown",
   "metadata": {},
   "source": [
    "A partir de l'onglet nommé \"Accueil\", cliquer sur new / terminal. Cela va vous ouvrira un nouvel onglet contenant une console permettant de saisir des commandes du Bash.\n",
    "<img src='./img/console1.png'  width=1000>"
   ]
  },
  {
   "cell_type": "markdown",
   "metadata": {},
   "source": [
    "## Objectifs\n",
    "Lors de ce TP vous allez vous familiariser avec les commandes du Bash vues dans le cours \"Systèmes d’exploitation\". Il est recommandé d'avoir celui-ci sous les yeux pendant le TP.  \n",
    "Soyez vigilent à l'orthographe des mots employés ainsi qu'à leur casse (majuscules et minuscules)."
   ]
  },
  {
   "cell_type": "markdown",
   "metadata": {},
   "source": [
    "<div class = \"alert alert-warning\">\n",
    "\n",
    "#### Exercice 1: L'échauffement\n",
    "\n",
    "1. A partir de la console, déterminer l'adresse du dossier courant.  \n",
    "    *Votre réponse ici*\n",
    "2. A partir de la console, créer un dossier nommé \"documents\" le dossier en cours. Il est évidement interdit d'utiliser le gestionnaire de fichier pour faire cela !  \n",
    "    *Ecrivez la commande utilisée ici*\n",
    "    \n",
    "**La cellule ci dessous va vous permettre de vérifier votre travail, si aucune assertion-error ne se manifeste alors c'est que vos lignes de commande sont correctes**\n",
    "    "
   ]
  },
  {
   "cell_type": "code",
   "execution_count": null,
   "metadata": {},
   "outputs": [],
   "source": [
    "# Question 1\n",
    "print(\"L'adresse du dossier en cours est \"+getcwd())\n",
    "\n",
    "# Question 2 \n",
    "dossiers = []\n",
    "# Les 4 lignes de code suivantes permettent de créer la liste des dossiers du dossier courant\n",
    "with scandir() as it:\n",
    "    for entry in it:\n",
    "        if not entry.name.startswith('.') and entry.is_dir():\n",
    "            dossiers.append(entry.name)\n",
    "print(\"Liste des dossiers : \"+str(dossiers))\n",
    "# Test\n",
    "assert \"documents\" in dossiers"
   ]
  },
  {
   "cell_type": "markdown",
   "metadata": {},
   "source": [
    "<div class = \"alert alert-warning\">\n",
    "\n",
    "#### Exercice 2: Créer un ensemble de dossiers et fichiers.\n",
    "\n",
    "1. A partir de la console, accédez au dossier \"documents\", puis créer les 3 sous-dossiers \"images\", \"musiques\" et \"videos\"\n",
    "2. Toujours à partir de la console, créer les 4 fichiers vides comme indiqués dans l'image ci-dessous.\n",
    "    \n",
    "<img src='./img/dossier1.png'  width=500>\n",
    "    \n",
    "**La cellule ci dessous va vous permettre de vérifier votre travail, si aucune assertion-error ne se manifeste alors c'est que vos lignes de commande sont correctes**"
   ]
  },
  {
   "cell_type": "code",
   "execution_count": null,
   "metadata": {},
   "outputs": [],
   "source": [
    "dossiers = []\n",
    "# Les 4 lignes de code suivantes permettent de créer la liste des dossiers du dossier courant\n",
    "with scandir('documents') as it:\n",
    "    for entry in it:\n",
    "        if not entry.name.startswith('.') and entry.is_dir():\n",
    "            dossiers.append(entry.name)\n",
    "dossiers.sort()\n",
    "print(\"Liste des dossiers : \"+str(dossiers))\n",
    "# Les lignes de code suivantes permettent de créer la liste des fichiers de chaque dossiers images, musiques et videos\n",
    "dico = {}\n",
    "for dossier in  ['images', 'musiques', 'videos']:\n",
    "    dico['fichiers_'+str(dossier)]= []\n",
    "    with scandir('documents/'+dossier) as it:\n",
    "        for entry in it:\n",
    "            if not entry.name.startswith('.') and entry.is_file():\n",
    "                dico['fichiers_'+str(dossier)].append(entry.name)\n",
    "    dico['fichiers_'+str(dossier)].sort()\n",
    "print('Liste des fichiers par dossiers : '+ str(dico))\n",
    "\n",
    "#tests\n",
    "assert dossiers == ['images', 'musiques', 'videos']\n",
    "assert dico['fichiers_images'] == ['ciel.png', 'plage.jpg']\n",
    "assert dico['fichiers_musiques'] == ['muse.mp3']\n",
    "assert dico['fichiers_videos'] == ['concert.mp4']"
   ]
  },
  {
   "cell_type": "code",
   "execution_count": null,
   "metadata": {},
   "outputs": [],
   "source": []
  }
 ],
 "metadata": {
  "kernelspec": {
   "display_name": "Python 3",
   "language": "python",
   "name": "python3"
  },
  "language_info": {
   "codemirror_mode": {
    "name": "ipython",
    "version": 3
   },
   "file_extension": ".py",
   "mimetype": "text/x-python",
   "name": "python",
   "nbconvert_exporter": "python",
   "pygments_lexer": "ipython3",
   "version": "3.7.4"
  }
 },
 "nbformat": 4,
 "nbformat_minor": 4
}
